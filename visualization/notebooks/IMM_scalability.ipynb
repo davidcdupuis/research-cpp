{
 "cells": [
  {
   "cell_type": "code",
   "execution_count": 4,
   "metadata": {
    "collapsed": true
   },
   "outputs": [],
   "source": [
    "import pandas as pd\n",
    "import numpy as np\n",
    "import matplotlib as plt"
   ]
  },
  {
   "cell_type": "code",
   "execution_count": 9,
   "metadata": {
    "collapsed": false
   },
   "outputs": [],
   "source": [
    "nethept_data = pd.read_csv(\"../../data/nethept/logs/imm.csv\")\n",
    "dblp_data = pd.read_csv(\"../../data/dblp/logs/imm.csv\")\n",
    "youtube_data = pd.read_csv(\"../../data/youtube/logs/imm.csv\")\n",
    "livejournal_data = pd.read_csv(\"../../data/livejournal/logs/imm.csv\")\n",
    "orkut_data = pd.read_csv(\"../../data/orkut/logs/imm.csv\")\n",
    "twitter_data = pd.read_csv(\"../../data/twitter/logs/imm.csv\")"
   ]
  },
  {
   "cell_type": "code",
   "execution_count": 10,
   "metadata": {
    "collapsed": false
   },
   "outputs": [
    {
     "data": {
      "text/html": [
       "<div>\n",
       "<table border=\"1\" class=\"dataframe\">\n",
       "  <thead>\n",
       "    <tr style=\"text-align: right;\">\n",
       "      <th></th>\n",
       "      <th>fileName</th>\n",
       "      <th>k</th>\n",
       "      <th>epsilon</th>\n",
       "      <th>startDatetime</th>\n",
       "      <th>endDatetime</th>\n",
       "      <th>duration</th>\n",
       "      <th>seedSize</th>\n",
       "      <th>estimatedScore</th>\n",
       "    </tr>\n",
       "  </thead>\n",
       "  <tbody>\n",
       "    <tr>\n",
       "      <th>0</th>\n",
       "      <td>twitter</td>\n",
       "      <td>50</td>\n",
       "      <td>0.5</td>\n",
       "      <td>Wed Nov  7 15:32:55 2018</td>\n",
       "      <td>Wed Nov  7 15:33:31 2018</td>\n",
       "      <td>35.6980</td>\n",
       "      <td>50</td>\n",
       "      <td>9033690.0</td>\n",
       "    </tr>\n",
       "    <tr>\n",
       "      <th>1</th>\n",
       "      <td>twitter</td>\n",
       "      <td>50</td>\n",
       "      <td>0.5</td>\n",
       "      <td>Thu Nov  8 10:08:11 2018</td>\n",
       "      <td>Thu Nov  8 10:08:46 2018</td>\n",
       "      <td>35.4103</td>\n",
       "      <td>50</td>\n",
       "      <td>9033690.0</td>\n",
       "    </tr>\n",
       "    <tr>\n",
       "      <th>2</th>\n",
       "      <td>twitter</td>\n",
       "      <td>50</td>\n",
       "      <td>0.1</td>\n",
       "      <td>Thu Nov  8 10:08:46 2018</td>\n",
       "      <td>Thu Nov  8 10:12:54 2018</td>\n",
       "      <td>248.3250</td>\n",
       "      <td>50</td>\n",
       "      <td>8862570.0</td>\n",
       "    </tr>\n",
       "    <tr>\n",
       "      <th>3</th>\n",
       "      <td>twitter</td>\n",
       "      <td>100</td>\n",
       "      <td>0.5</td>\n",
       "      <td>Thu Nov  8 10:12:55 2018</td>\n",
       "      <td>Thu Nov  8 10:13:24 2018</td>\n",
       "      <td>29.9393</td>\n",
       "      <td>100</td>\n",
       "      <td>10840900.0</td>\n",
       "    </tr>\n",
       "    <tr>\n",
       "      <th>4</th>\n",
       "      <td>twitter</td>\n",
       "      <td>100</td>\n",
       "      <td>0.1</td>\n",
       "      <td>Thu Nov  8 10:13:25 2018</td>\n",
       "      <td>Thu Nov  8 10:15:48 2018</td>\n",
       "      <td>143.1520</td>\n",
       "      <td>100</td>\n",
       "      <td>10842000.0</td>\n",
       "    </tr>\n",
       "  </tbody>\n",
       "</table>\n",
       "</div>"
      ],
      "text/plain": [
       "  fileName    k  epsilon             startDatetime               endDatetime  \\\n",
       "0  twitter   50      0.5  Wed Nov  7 15:32:55 2018  Wed Nov  7 15:33:31 2018   \n",
       "1  twitter   50      0.5  Thu Nov  8 10:08:11 2018  Thu Nov  8 10:08:46 2018   \n",
       "2  twitter   50      0.1  Thu Nov  8 10:08:46 2018  Thu Nov  8 10:12:54 2018   \n",
       "3  twitter  100      0.5  Thu Nov  8 10:12:55 2018  Thu Nov  8 10:13:24 2018   \n",
       "4  twitter  100      0.1  Thu Nov  8 10:13:25 2018  Thu Nov  8 10:15:48 2018   \n",
       "\n",
       "   duration  seedSize  estimatedScore  \n",
       "0   35.6980        50       9033690.0  \n",
       "1   35.4103        50       9033690.0  \n",
       "2  248.3250        50       8862570.0  \n",
       "3   29.9393       100      10840900.0  \n",
       "4  143.1520       100      10842000.0  "
      ]
     },
     "execution_count": 10,
     "metadata": {},
     "output_type": "execute_result"
    }
   ],
   "source": [
    "twitter_data.head()"
   ]
  },
  {
   "cell_type": "code",
   "execution_count": null,
   "metadata": {
    "collapsed": true
   },
   "outputs": [],
   "source": []
  }
 ],
 "metadata": {
  "anaconda-cloud": {},
  "kernelspec": {
   "display_name": "Python [default]",
   "language": "python",
   "name": "python2"
  },
  "language_info": {
   "codemirror_mode": {
    "name": "ipython",
    "version": 2
   },
   "file_extension": ".py",
   "mimetype": "text/x-python",
   "name": "python",
   "nbconvert_exporter": "python",
   "pygments_lexer": "ipython2",
   "version": "2.7.12"
  }
 },
 "nbformat": 4,
 "nbformat_minor": 1
}
